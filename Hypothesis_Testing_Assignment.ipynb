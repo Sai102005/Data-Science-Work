{
  "nbformat": 4,
  "nbformat_minor": 0,
  "metadata": {
    "colab": {
      "provenance": []
    },
    "kernelspec": {
      "name": "python3",
      "display_name": "Python 3"
    },
    "language_info": {
      "name": "python"
    }
  },
  "cells": [
    {
      "cell_type": "code",
      "execution_count": null,
      "metadata": {
        "id": "4EsZ6fRA5OpL"
      },
      "outputs": [],
      "source": [
        "from scipy import stats\n",
        "import pandas as pd\n",
        "import numpy as np"
      ]
    },
    {
      "cell_type": "markdown",
      "source": [
        "Objective:\n",
        "To investigate the restaurant owners' claim about the increase in weekly operating costs using hypothesis testing."
      ],
      "metadata": {
        "id": "7GywBJjL54E9"
      }
    },
    {
      "cell_type": "code",
      "source": [
        "#ˉxˉ = sample mean weekly cost (Rs. 3,050)\n",
        "#\tμ = theoretical mean weekly cost according to the cost model (W = $1,000 + $5X for X = 600 units) = $1000+$3000 = $4000\n",
        "#\tσ = 5*25 units = 125 units\n",
        "#\tn = sample size (25 restaurants)\n",
        "\n",
        "# Null Hypothesis (H0): The sample mean is equal to the theoretical mean\n",
        "#(H0):μ <= 4000\n",
        "\n",
        "# Alternative Hypothesis (Ha): The sample mean is not equal to the theoretical mean\n",
        "#(H0):μ > 4000"
      ],
      "metadata": {
        "id": "kQ7y1h5G56mf"
      },
      "execution_count": null,
      "outputs": []
    },
    {
      "cell_type": "code",
      "source": [
        "t=(3050-4000)/(125/np.sqrt(25))\n",
        "t"
      ],
      "metadata": {
        "colab": {
          "base_uri": "https://localhost:8080/"
        },
        "id": "mE2KnMgu6kiC",
        "outputId": "a6e2caf8-0e34-4451-8f55-40976e4a6701"
      },
      "execution_count": null,
      "outputs": [
        {
          "output_type": "execute_result",
          "data": {
            "text/plain": [
              "-38.0"
            ]
          },
          "metadata": {},
          "execution_count": 3
        }
      ]
    },
    {
      "cell_type": "code",
      "source": [
        "p=1-(stats.norm.cdf(-38,24)) # df= Degrees of freedom\n",
        "p\n",
        "#OR\n",
        "#p=(stats.norm.cdf(38,24)) # df= Degrees of freedom\n",
        "#p"
      ],
      "metadata": {
        "colab": {
          "base_uri": "https://localhost:8080/"
        },
        "id": "nfCgaNBU7On0",
        "outputId": "9fec70ff-152d-468e-c5e2-73d0ec89dee9"
      },
      "execution_count": null,
      "outputs": [
        {
          "output_type": "execute_result",
          "data": {
            "text/plain": [
              "1.0"
            ]
          },
          "metadata": {},
          "execution_count": 15
        }
      ]
    },
    {
      "cell_type": "code",
      "source": [
        "# conclusion : \"Fail to reject the null hypothesis. There is not enough evidence to suggest that the operating costs have increased.\""
      ],
      "metadata": {
        "id": "lNFdpZ0j-nn3"
      },
      "execution_count": null,
      "outputs": []
    },
    {
      "cell_type": "code",
      "source": [],
      "metadata": {
        "id": "yNWS7hw0GTkR"
      },
      "execution_count": null,
      "outputs": []
    },
    {
      "cell_type": "code",
      "source": [],
      "metadata": {
        "id": "VW0wxkJlGTim"
      },
      "execution_count": null,
      "outputs": []
    },
    {
      "cell_type": "code",
      "source": [],
      "metadata": {
        "id": "VbHQSDNoGTgd"
      },
      "execution_count": null,
      "outputs": []
    }
  ]
}